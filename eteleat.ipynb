{
 "cells": [
  {
   "cell_type": "code",
   "execution_count": 1,
   "metadata": {},
   "outputs": [
    {
     "name": "stdout",
     "output_type": "stream",
     "text": [
      "Enter a:2\n"
     ]
    }
   ],
   "source": [
    "a=int(input(\"Enter a:\"))"
   ]
  },
  {
   "cell_type": "code",
   "execution_count": 7,
   "metadata": {},
   "outputs": [
    {
     "name": "stdout",
     "output_type": "stream",
     "text": [
      "Enter a id:1\n",
      "Enter a date:1377\n",
      "Enter a m_w(0|1):1\n",
      "Enter base:6\n",
      "Enter pay:420000\n",
      "Enter a id:2\n",
      "Enter a date:1377\n",
      "Enter a m_w(0|1):0\n",
      "Enter base:6\n",
      "Enter pay:40000000\n",
      "****** result ******\n",
      "Number of base six is  1\n",
      "Number of woman is  1\n",
      "Number of man is  1\n",
      "Averange(woman) pay is  40000000.0\n",
      "Averange(man) pay is  420000.0\n"
     ]
    }
   ],
   "source": [
    "base6=0\n",
    "t_w=0\n",
    "t_m=0\n",
    "sumpay_w=0\n",
    "sumpay_m=0\n",
    "for i in range(1,a+1):\n",
    "    id=int(input(\"Enter a id:\"))\n",
    "    date=int(input(\"Enter a date:\"))\n",
    "    m_w=int(input(\"Enter a m_w(0|1):\"))\n",
    "    base=int(input(\"Enter base:\"))\n",
    "    pay=int(input(\"Enter pay:\"))\n",
    "    if base==6:\n",
    "        base6=+1\n",
    "    if m_w==0:\n",
    "        sumpay_w=sumpay_w+pay\n",
    "        t_w=+1\n",
    "    if m_w==1:\n",
    "        sumpay_m=sumpay_m+pay\n",
    "        t_m=+1\n",
    "print(\"****** result ******\")\n",
    "print(\"Number of base six is \",base6)\n",
    "print(\"Number of woman is \",t_m)\n",
    "print(\"Number of man is \",t_m)\n",
    "print(\"Averange(woman) pay is \", sumpay_w/t_w)\n",
    "print(\"Averange(man) pay is \", sumpay_m/t_m)\n",
    "    \n",
    "    "
   ]
  },
  {
   "cell_type": "code",
   "execution_count": null,
   "metadata": {},
   "outputs": [],
   "source": []
  }
 ],
 "metadata": {
  "kernelspec": {
   "display_name": "Python 3",
   "language": "python",
   "name": "python3"
  },
  "language_info": {
   "codemirror_mode": {
    "name": "ipython",
    "version": 3
   },
   "file_extension": ".py",
   "mimetype": "text/x-python",
   "name": "python",
   "nbconvert_exporter": "python",
   "pygments_lexer": "ipython3",
   "version": "3.6.13"
  }
 },
 "nbformat": 4,
 "nbformat_minor": 2
}
